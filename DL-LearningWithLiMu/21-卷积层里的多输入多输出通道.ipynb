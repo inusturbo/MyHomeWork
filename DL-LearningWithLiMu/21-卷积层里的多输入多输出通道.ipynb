{
 "cells": [
  {
   "cell_type": "markdown",
   "metadata": {},
   "source": [
    "# 21 卷积层里的多输入多输出通道\n",
    "\n",
    "通常会仔细设置的超参数\n",
    "## 多输入通道：\n",
    "彩色图像可能会有RGB三通道\n",
    "\n",
    "转换为灰度可能会丢失信息\n",
    "\n",
    "每个通道都有一个卷积核，结果是所有通道结果的和\n",
    "![](./assets/2022-02-11-12-02-07.png)\n",
    "\n",
    "![](./assets/2022-02-11-12-03-23.png)\n",
    "\n",
    "## 多输出通道：\n",
    "\n",
    "无论我们有多少输入通道，到目前为止我们只用到单输出通道\n",
    "我们可以有多个三维卷积核，每个核生成一个输出通道\n",
    "![](./assets/2022-02-11-12-05-54.png)\n",
    "\n",
    "每个输出通道可以识别特定的模式\n",
    "\n",
    "![](./assets/2022-02-11-12-08-37.png)\n",
    "\n",
    "输入通道核识别并组合输入中的模式\n",
    "\n",
    "## 1*1卷积层\n",
    "![](./assets/2022-02-11-12-12-47.png)\n",
    "不做空间的匹配，只在输入通道和输出通道作融合（就是一个全连接层）\n",
    "\n",
    "## 二维卷积层\n",
    "![](./assets/2022-02-11-12-15-00.png)\n",
    "\n",
    "## 总结\n",
    "输出通道数是卷积层的超参数\n",
    "\n",
    "每个输入通道有独立的二维卷积核，所有通道结果相加得到一个输出通道结果\n",
    "\n",
    "每个输出通道有三维卷积核 \n"
   ]
  },
  {
   "cell_type": "code",
   "execution_count": 2,
   "metadata": {},
   "outputs": [],
   "source": [
    "# 实现一下多输入通道互相关运算\n",
    "\n",
    "import torch\n",
    "from d2l import torch as d2l\n",
    "\n",
    "def corr2d_multi_in(X, K):\n",
    "    return sum(d2l.corr2d(x, k) for x, k in zip(X, K))"
   ]
  },
  {
   "cell_type": "code",
   "execution_count": 3,
   "metadata": {},
   "outputs": [
    {
     "data": {
      "text/plain": [
       "tensor([[ 56.,  72.],\n",
       "        [104., 120.]])"
      ]
     },
     "execution_count": 3,
     "metadata": {},
     "output_type": "execute_result"
    }
   ],
   "source": [
    "# 验证互相关运算的输出\n",
    "\n",
    "X = torch.tensor([[[0.0, 1.0, 2.0], [3.0, 4.0, 5.0], [6.0, 7.0, 8.0]],\n",
    "                  [[1.0, 2.0, 3.0], [4.0, 5.0, 6.0], [7.0, 8.0, 9.0]]])\n",
    "K = torch.tensor([[[0.0, 1.0], [2.0, 3.0]], [[1.0, 2.0], [3.0, 4.0]]])\n",
    "\n",
    "corr2d_multi_in(X, K)"
   ]
  },
  {
   "cell_type": "code",
   "execution_count": 4,
   "metadata": {},
   "outputs": [
    {
     "data": {
      "text/plain": [
       "torch.Size([3, 2, 2, 2])"
      ]
     },
     "execution_count": 4,
     "metadata": {},
     "output_type": "execute_result"
    }
   ],
   "source": [
    "# 计算多个通道的输出的互相关函数\n",
    "\n",
    "def corr2d_multi_in_out(X, K):\n",
    "    return torch.stack([corr2d_multi_in(X, k) for k in K], 0)\n",
    "\n",
    "K = torch.stack((K, K + 1, K + 2), 0)\n",
    "K.shape"
   ]
  },
  {
   "cell_type": "code",
   "execution_count": 5,
   "metadata": {},
   "outputs": [
    {
     "data": {
      "text/plain": [
       "tensor([[[ 56.,  72.],\n",
       "         [104., 120.]],\n",
       "\n",
       "        [[ 76., 100.],\n",
       "         [148., 172.]],\n",
       "\n",
       "        [[ 96., 128.],\n",
       "         [192., 224.]]])"
      ]
     },
     "execution_count": 5,
     "metadata": {},
     "output_type": "execute_result"
    }
   ],
   "source": [
    "corr2d_multi_in_out(X, K)"
   ]
  },
  {
   "cell_type": "code",
   "execution_count": 6,
   "metadata": {},
   "outputs": [],
   "source": [
    "# 1x1卷积\n",
    "\n",
    "def corr2d_multi_in_out_1x1(X, K):\n",
    "    c_i, h, w = X.shape\n",
    "    c_o = K.shape[0]\n",
    "    X = X.reshape((c_i, h * w))\n",
    "    K = K.reshape((c_o, c_i))\n",
    "    Y = torch.matmul(K, X)\n",
    "    return Y.reshape((c_o, h, w))\n",
    "\n",
    "X = torch.normal(0, 1, (3, 3, 3))\n",
    "K = torch.normal(0, 1, (2, 3, 1, 1))\n",
    "\n",
    "Y1 = corr2d_multi_in_out_1x1(X, K)\n",
    "Y2 = corr2d_multi_in_out(X, K)\n",
    "assert float(torch.abs(Y1 - Y2).sum()) < 1e-6"
   ]
  },
  {
   "cell_type": "code",
   "execution_count": null,
   "metadata": {},
   "outputs": [],
   "source": []
  }
 ],
 "metadata": {
  "interpreter": {
   "hash": "d015e4b5d22d28f94cf190adc69af474f074ddba9a1f2c49736c7872bc353fed"
  },
  "kernelspec": {
   "display_name": "Python 3.8.12 ('d2l-zh')",
   "language": "python",
   "name": "python3"
  },
  "language_info": {
   "codemirror_mode": {
    "name": "ipython",
    "version": 3
   },
   "file_extension": ".py",
   "mimetype": "text/x-python",
   "name": "python",
   "nbconvert_exporter": "python",
   "pygments_lexer": "ipython3",
   "version": "3.8.12"
  },
  "orig_nbformat": 4
 },
 "nbformat": 4,
 "nbformat_minor": 2
}
